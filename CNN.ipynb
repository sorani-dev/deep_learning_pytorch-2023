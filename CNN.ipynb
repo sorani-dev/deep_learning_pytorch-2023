{
  "nbformat": 4,
  "nbformat_minor": 0,
  "metadata": {
    "colab": {
      "provenance": [],
      "gpuType": "T4"
    },
    "kernelspec": {
      "name": "python3",
      "display_name": "Python 3"
    },
    "language_info": {
      "name": "python"
    },
    "accelerator": "GPU"
  },
  "cells": [
    {
      "cell_type": "markdown",
      "source": [
        "# CNN"
      ],
      "metadata": {
        "id": "b4OGlyZIGlU9"
      }
    },
    {
      "cell_type": "markdown",
      "source": [
        "## Import MNIST Images - Deep Learning with PyTorch 14"
      ],
      "metadata": {
        "id": "p52DC1n9Gpl0"
      }
    },
    {
      "cell_type": "code",
      "execution_count": 2,
      "metadata": {
        "id": "6BToejRRuL0l"
      },
      "outputs": [],
      "source": [
        "import torch\n",
        "import torch.nn as nn\n",
        "import torch.nn.functional as F\n",
        "from torch.utils.data import DataLoader\n",
        "from torchvision import datasets, transforms\n",
        "from torchvision.utils import make_grid\n",
        "\n",
        "import numpy as np\n",
        "import pandas as pd\n",
        "from sklearn.metrics import confusion_matrix\n",
        "import matplotlib.pyplot as plt\n",
        "\n",
        "%matplotlib inline"
      ]
    },
    {
      "cell_type": "code",
      "source": [
        "# Convert MNIST Image Files into a Tensor of 4-Dimensions (# of images, Height, Width, Color Channel)\n",
        "transform = transforms.ToTensor()"
      ],
      "metadata": {
        "id": "yDG3T4NTudNz"
      },
      "execution_count": 3,
      "outputs": []
    },
    {
      "cell_type": "code",
      "source": [
        "# Train Data\n",
        "train_data = datasets.MNIST(root='/cnn_data', train=True, download=True, transform=transform)"
      ],
      "metadata": {
        "id": "JNrUQJFSwRIx",
        "colab": {
          "base_uri": "https://localhost:8080/"
        },
        "outputId": "4651d3c0-2433-454b-b254-9150a1627f00"
      },
      "execution_count": 4,
      "outputs": [
        {
          "output_type": "stream",
          "name": "stdout",
          "text": [
            "Downloading http://yann.lecun.com/exdb/mnist/train-images-idx3-ubyte.gz\n",
            "Downloading http://yann.lecun.com/exdb/mnist/train-images-idx3-ubyte.gz to /cnn_data/MNIST/raw/train-images-idx3-ubyte.gz\n"
          ]
        },
        {
          "output_type": "stream",
          "name": "stderr",
          "text": [
            "100%|██████████| 9912422/9912422 [00:00<00:00, 83015443.19it/s]\n"
          ]
        },
        {
          "output_type": "stream",
          "name": "stdout",
          "text": [
            "Extracting /cnn_data/MNIST/raw/train-images-idx3-ubyte.gz to /cnn_data/MNIST/raw\n",
            "\n",
            "Downloading http://yann.lecun.com/exdb/mnist/train-labels-idx1-ubyte.gz\n",
            "Downloading http://yann.lecun.com/exdb/mnist/train-labels-idx1-ubyte.gz to /cnn_data/MNIST/raw/train-labels-idx1-ubyte.gz\n"
          ]
        },
        {
          "output_type": "stream",
          "name": "stderr",
          "text": [
            "100%|██████████| 28881/28881 [00:00<00:00, 35091452.44it/s]"
          ]
        },
        {
          "output_type": "stream",
          "name": "stdout",
          "text": [
            "Extracting /cnn_data/MNIST/raw/train-labels-idx1-ubyte.gz to /cnn_data/MNIST/raw\n",
            "\n",
            "Downloading http://yann.lecun.com/exdb/mnist/t10k-images-idx3-ubyte.gz\n"
          ]
        },
        {
          "output_type": "stream",
          "name": "stderr",
          "text": [
            "\n"
          ]
        },
        {
          "output_type": "stream",
          "name": "stdout",
          "text": [
            "Downloading http://yann.lecun.com/exdb/mnist/t10k-images-idx3-ubyte.gz to /cnn_data/MNIST/raw/t10k-images-idx3-ubyte.gz\n"
          ]
        },
        {
          "output_type": "stream",
          "name": "stderr",
          "text": [
            "100%|██████████| 1648877/1648877 [00:00<00:00, 19775792.85it/s]"
          ]
        },
        {
          "output_type": "stream",
          "name": "stdout",
          "text": [
            "Extracting /cnn_data/MNIST/raw/t10k-images-idx3-ubyte.gz to /cnn_data/MNIST/raw\n",
            "\n",
            "Downloading http://yann.lecun.com/exdb/mnist/t10k-labels-idx1-ubyte.gz\n"
          ]
        },
        {
          "output_type": "stream",
          "name": "stderr",
          "text": [
            "\n"
          ]
        },
        {
          "output_type": "stream",
          "name": "stdout",
          "text": [
            "Downloading http://yann.lecun.com/exdb/mnist/t10k-labels-idx1-ubyte.gz to /cnn_data/MNIST/raw/t10k-labels-idx1-ubyte.gz\n"
          ]
        },
        {
          "output_type": "stream",
          "name": "stderr",
          "text": [
            "100%|██████████| 4542/4542 [00:00<00:00, 3386760.67it/s]\n"
          ]
        },
        {
          "output_type": "stream",
          "name": "stdout",
          "text": [
            "Extracting /cnn_data/MNIST/raw/t10k-labels-idx1-ubyte.gz to /cnn_data/MNIST/raw\n",
            "\n"
          ]
        }
      ]
    },
    {
      "cell_type": "code",
      "source": [
        "# test Data\n",
        "test_data = datasets.MNIST(root='/cnn_data', train=False, download=True, transform=transform)"
      ],
      "metadata": {
        "id": "1qH7E6jSw4T3"
      },
      "execution_count": 5,
      "outputs": []
    },
    {
      "cell_type": "code",
      "source": [
        "train_data"
      ],
      "metadata": {
        "colab": {
          "base_uri": "https://localhost:8080/"
        },
        "id": "CpM4Rj-lxovy",
        "outputId": "0a073973-4332-4a6d-94eb-e1b054b1b9bc"
      },
      "execution_count": 6,
      "outputs": [
        {
          "output_type": "execute_result",
          "data": {
            "text/plain": [
              "Dataset MNIST\n",
              "    Number of datapoints: 60000\n",
              "    Root location: /cnn_data\n",
              "    Split: Train\n",
              "    StandardTransform\n",
              "Transform: ToTensor()"
            ]
          },
          "metadata": {},
          "execution_count": 6
        }
      ]
    },
    {
      "cell_type": "code",
      "source": [
        "test_data"
      ],
      "metadata": {
        "colab": {
          "base_uri": "https://localhost:8080/"
        },
        "id": "K-T5izyM8kfC",
        "outputId": "294bd716-3d45-43f3-ce79-abb81439dde3"
      },
      "execution_count": 7,
      "outputs": [
        {
          "output_type": "execute_result",
          "data": {
            "text/plain": [
              "Dataset MNIST\n",
              "    Number of datapoints: 10000\n",
              "    Root location: /cnn_data\n",
              "    Split: Test\n",
              "    StandardTransform\n",
              "Transform: ToTensor()"
            ]
          },
          "metadata": {},
          "execution_count": 7
        }
      ]
    },
    {
      "cell_type": "code",
      "source": [
        "pwd"
      ],
      "metadata": {
        "colab": {
          "base_uri": "https://localhost:8080/",
          "height": 35
        },
        "id": "1odcl24FGAqU",
        "outputId": "9555af6a-a824-4e31-cc67-7c0ada68e1f3"
      },
      "execution_count": 8,
      "outputs": [
        {
          "output_type": "execute_result",
          "data": {
            "text/plain": [
              "'/content'"
            ],
            "application/vnd.google.colaboratory.intrinsic+json": {
              "type": "string"
            }
          },
          "metadata": {},
          "execution_count": 8
        }
      ]
    },
    {
      "cell_type": "code",
      "source": [
        "ls"
      ],
      "metadata": {
        "colab": {
          "base_uri": "https://localhost:8080/"
        },
        "id": "I3ov30OaGAtC",
        "outputId": "c96424f4-0737-4c9b-8cd0-3771cd9051f0"
      },
      "execution_count": 9,
      "outputs": [
        {
          "output_type": "stream",
          "name": "stdout",
          "text": [
            "\u001b[0m\u001b[01;34msample_data\u001b[0m/\n"
          ]
        }
      ]
    },
    {
      "cell_type": "code",
      "source": [
        "cd ../"
      ],
      "metadata": {
        "colab": {
          "base_uri": "https://localhost:8080/"
        },
        "id": "gGKtmsuPGAv8",
        "outputId": "aa4d4095-5d5a-42d3-b611-b0594b734f05"
      },
      "execution_count": 10,
      "outputs": [
        {
          "output_type": "stream",
          "name": "stdout",
          "text": [
            "/\n"
          ]
        }
      ]
    },
    {
      "cell_type": "code",
      "source": [
        "ls -al"
      ],
      "metadata": {
        "colab": {
          "base_uri": "https://localhost:8080/"
        },
        "id": "EvzzZ6uoGAyh",
        "outputId": "c352c690-035c-470c-fbb1-1e1d9cfb40ad"
      },
      "execution_count": 11,
      "outputs": [
        {
          "output_type": "stream",
          "name": "stdout",
          "text": [
            "total 116\n",
            "drwxr-xr-x   1 root root  4096 Oct 17 21:53 \u001b[0m\u001b[01;34m.\u001b[0m/\n",
            "drwxr-xr-x   1 root root  4096 Oct 17 21:53 \u001b[01;34m..\u001b[0m/\n",
            "lrwxrwxrwx   1 root root     7 Jun  5 14:02 \u001b[01;36mbin\u001b[0m -> \u001b[01;34musr/bin\u001b[0m/\n",
            "drwxr-xr-x   2 root root  4096 Apr 18  2022 \u001b[01;34mboot\u001b[0m/\n",
            "drwxr-xr-x   3 root root  4096 Oct 17 21:53 \u001b[01;34mcnn_data\u001b[0m/\n",
            "drwxr-xr-x   1 root root  4096 Oct 16 13:23 \u001b[01;34mcontent\u001b[0m/\n",
            "-rw-r--r--   1 root root  4332 Jun 21 00:40 cuda-keyring_1.0-1_all.deb\n",
            "drwxr-xr-x   1 root root  4096 Oct 16 13:52 \u001b[01;34mdatalab\u001b[0m/\n",
            "drwxr-xr-x   6 root root   460 Oct 17 21:51 \u001b[01;34mdev\u001b[0m/\n",
            "-rwxr-xr-x   1 root root     0 Oct 17 21:51 \u001b[01;32m.dockerenv\u001b[0m*\n",
            "drwxr-xr-x   1 root root  4096 Oct 17 21:51 \u001b[01;34metc\u001b[0m/\n",
            "drwxr-xr-x   2 root root  4096 Apr 18  2022 \u001b[01;34mhome\u001b[0m/\n",
            "lrwxrwxrwx   1 root root     7 Jun  5 14:02 \u001b[01;36mlib\u001b[0m -> \u001b[01;34musr/lib\u001b[0m/\n",
            "lrwxrwxrwx   1 root root     9 Jun  5 14:02 \u001b[01;36mlib32\u001b[0m -> \u001b[01;34musr/lib32\u001b[0m/\n",
            "lrwxrwxrwx   1 root root     9 Jun  5 14:02 \u001b[01;36mlib64\u001b[0m -> \u001b[01;34musr/lib64\u001b[0m/\n",
            "lrwxrwxrwx   1 root root    10 Jun  5 14:02 \u001b[01;36mlibx32\u001b[0m -> \u001b[01;34musr/libx32\u001b[0m/\n",
            "drwxr-xr-x   2 root root  4096 Jun  5 14:02 \u001b[01;34mmedia\u001b[0m/\n",
            "drwxr-xr-x   2 root root  4096 Jun  5 14:02 \u001b[01;34mmnt\u001b[0m/\n",
            "-rw-r--r--   1 root root 17294 Jun 21 00:39 NGC-DL-CONTAINER-LICENSE\n",
            "drwxr-xr-x   1 root root  4096 Oct 17 21:51 \u001b[01;34mopt\u001b[0m/\n",
            "dr-xr-xr-x 205 root root     0 Oct 17 21:51 \u001b[01;34mproc\u001b[0m/\n",
            "drwxr-xr-x  15 root root  4096 Oct 16 13:20 \u001b[01;34mpython-apt\u001b[0m/\n",
            "drwx------   1 root root  4096 Oct 16 13:53 \u001b[01;34mroot\u001b[0m/\n",
            "drwxr-xr-x   1 root root  4096 Oct 16 13:15 \u001b[01;34mrun\u001b[0m/\n",
            "lrwxrwxrwx   1 root root     8 Jun  5 14:02 \u001b[01;36msbin\u001b[0m -> \u001b[01;34musr/sbin\u001b[0m/\n",
            "drwxr-xr-x   2 root root  4096 Jun  5 14:02 \u001b[01;34msrv\u001b[0m/\n",
            "dr-xr-xr-x  13 root root     0 Oct 17 21:51 \u001b[01;34msys\u001b[0m/\n",
            "drwxrwxrwt   1 root root  4096 Oct 17 21:53 \u001b[30;42mtmp\u001b[0m/\n",
            "drwxr-xr-x   1 root root  4096 Oct 16 13:39 \u001b[01;34mtools\u001b[0m/\n",
            "drwxr-xr-x   1 root root  4096 Oct 17 21:51 \u001b[01;34musr\u001b[0m/\n",
            "drwxr-xr-x   1 root root  4096 Oct 16 13:52 \u001b[01;34mvar\u001b[0m/\n"
          ]
        }
      ]
    },
    {
      "cell_type": "code",
      "source": [
        "cd cnn_data"
      ],
      "metadata": {
        "colab": {
          "base_uri": "https://localhost:8080/"
        },
        "id": "-UieNm_vGPJD",
        "outputId": "26550a72-aa68-4dd7-f3eb-7d92f47158b7"
      },
      "execution_count": 12,
      "outputs": [
        {
          "output_type": "stream",
          "name": "stdout",
          "text": [
            "/cnn_data\n"
          ]
        }
      ]
    },
    {
      "cell_type": "code",
      "source": [
        "ls -l"
      ],
      "metadata": {
        "colab": {
          "base_uri": "https://localhost:8080/"
        },
        "id": "A6vG6xBWGPL2",
        "outputId": "2788cfdc-76c3-449a-8315-260940e10b17"
      },
      "execution_count": 13,
      "outputs": [
        {
          "output_type": "stream",
          "name": "stdout",
          "text": [
            "total 4\n",
            "drwxr-xr-x 3 root root 4096 Oct 17 21:53 \u001b[0m\u001b[01;34mMNIST\u001b[0m/\n"
          ]
        }
      ]
    },
    {
      "cell_type": "code",
      "source": [
        "cd /"
      ],
      "metadata": {
        "colab": {
          "base_uri": "https://localhost:8080/"
        },
        "id": "GusKlHS7GPOu",
        "outputId": "eebea75d-cf0f-445a-ac10-d4e99869abbb"
      },
      "execution_count": 14,
      "outputs": [
        {
          "output_type": "stream",
          "name": "stdout",
          "text": [
            "/\n"
          ]
        }
      ]
    },
    {
      "cell_type": "code",
      "source": [
        "ls -l"
      ],
      "metadata": {
        "colab": {
          "base_uri": "https://localhost:8080/"
        },
        "id": "jawPRjssGX1y",
        "outputId": "9165590a-005e-469f-808c-10ed25ba1838"
      },
      "execution_count": 15,
      "outputs": [
        {
          "output_type": "stream",
          "name": "stdout",
          "text": [
            "total 108\n",
            "lrwxrwxrwx   1 root root     7 Jun  5 14:02 \u001b[0m\u001b[01;36mbin\u001b[0m -> \u001b[01;34musr/bin\u001b[0m/\n",
            "drwxr-xr-x   2 root root  4096 Apr 18  2022 \u001b[01;34mboot\u001b[0m/\n",
            "drwxr-xr-x   3 root root  4096 Oct 17 21:53 \u001b[01;34mcnn_data\u001b[0m/\n",
            "drwxr-xr-x   1 root root  4096 Oct 16 13:23 \u001b[01;34mcontent\u001b[0m/\n",
            "-rw-r--r--   1 root root  4332 Jun 21 00:40 cuda-keyring_1.0-1_all.deb\n",
            "drwxr-xr-x   1 root root  4096 Oct 16 13:52 \u001b[01;34mdatalab\u001b[0m/\n",
            "drwxr-xr-x   6 root root   460 Oct 17 21:51 \u001b[01;34mdev\u001b[0m/\n",
            "drwxr-xr-x   1 root root  4096 Oct 17 21:51 \u001b[01;34metc\u001b[0m/\n",
            "drwxr-xr-x   2 root root  4096 Apr 18  2022 \u001b[01;34mhome\u001b[0m/\n",
            "lrwxrwxrwx   1 root root     7 Jun  5 14:02 \u001b[01;36mlib\u001b[0m -> \u001b[01;34musr/lib\u001b[0m/\n",
            "lrwxrwxrwx   1 root root     9 Jun  5 14:02 \u001b[01;36mlib32\u001b[0m -> \u001b[01;34musr/lib32\u001b[0m/\n",
            "lrwxrwxrwx   1 root root     9 Jun  5 14:02 \u001b[01;36mlib64\u001b[0m -> \u001b[01;34musr/lib64\u001b[0m/\n",
            "lrwxrwxrwx   1 root root    10 Jun  5 14:02 \u001b[01;36mlibx32\u001b[0m -> \u001b[01;34musr/libx32\u001b[0m/\n",
            "drwxr-xr-x   2 root root  4096 Jun  5 14:02 \u001b[01;34mmedia\u001b[0m/\n",
            "drwxr-xr-x   2 root root  4096 Jun  5 14:02 \u001b[01;34mmnt\u001b[0m/\n",
            "-rw-r--r--   1 root root 17294 Jun 21 00:39 NGC-DL-CONTAINER-LICENSE\n",
            "drwxr-xr-x   1 root root  4096 Oct 17 21:51 \u001b[01;34mopt\u001b[0m/\n",
            "dr-xr-xr-x 205 root root     0 Oct 17 21:51 \u001b[01;34mproc\u001b[0m/\n",
            "drwxr-xr-x  15 root root  4096 Oct 16 13:20 \u001b[01;34mpython-apt\u001b[0m/\n",
            "drwx------   1 root root  4096 Oct 16 13:53 \u001b[01;34mroot\u001b[0m/\n",
            "drwxr-xr-x   1 root root  4096 Oct 16 13:15 \u001b[01;34mrun\u001b[0m/\n",
            "lrwxrwxrwx   1 root root     8 Jun  5 14:02 \u001b[01;36msbin\u001b[0m -> \u001b[01;34musr/sbin\u001b[0m/\n",
            "drwxr-xr-x   2 root root  4096 Jun  5 14:02 \u001b[01;34msrv\u001b[0m/\n",
            "dr-xr-xr-x  13 root root     0 Oct 17 21:51 \u001b[01;34msys\u001b[0m/\n",
            "drwxrwxrwt   1 root root  4096 Oct 17 21:53 \u001b[30;42mtmp\u001b[0m/\n",
            "drwxr-xr-x   1 root root  4096 Oct 16 13:39 \u001b[01;34mtools\u001b[0m/\n",
            "drwxr-xr-x   1 root root  4096 Oct 17 21:51 \u001b[01;34musr\u001b[0m/\n",
            "drwxr-xr-x   1 root root  4096 Oct 16 13:52 \u001b[01;34mvar\u001b[0m/\n"
          ]
        }
      ]
    },
    {
      "cell_type": "code",
      "source": [
        "cd content/"
      ],
      "metadata": {
        "colab": {
          "base_uri": "https://localhost:8080/"
        },
        "id": "qKIa2Ib8GVLz",
        "outputId": "4e087dca-a630-4243-9817-b42c9590d5f3"
      },
      "execution_count": 16,
      "outputs": [
        {
          "output_type": "stream",
          "name": "stdout",
          "text": [
            "/content\n"
          ]
        }
      ]
    },
    {
      "cell_type": "code",
      "source": [
        "ls -al"
      ],
      "metadata": {
        "colab": {
          "base_uri": "https://localhost:8080/"
        },
        "id": "oEwOZe-2GVOn",
        "outputId": "0eedcf5b-a4c1-4791-bb14-ee957489ef3b"
      },
      "execution_count": 17,
      "outputs": [
        {
          "output_type": "stream",
          "name": "stdout",
          "text": [
            "total 16\n",
            "drwxr-xr-x 1 root root 4096 Oct 16 13:23 \u001b[0m\u001b[01;34m.\u001b[0m/\n",
            "drwxr-xr-x 1 root root 4096 Oct 17 21:53 \u001b[01;34m..\u001b[0m/\n",
            "drwxr-xr-x 4 root root 4096 Oct 16 13:23 \u001b[01;34m.config\u001b[0m/\n",
            "drwxr-xr-x 1 root root 4096 Oct 16 13:23 \u001b[01;34msample_data\u001b[0m/\n"
          ]
        }
      ]
    },
    {
      "cell_type": "markdown",
      "source": [
        "## Convolutional and Pooling Layers - Deep Learning with PyTorch 15\n"
      ],
      "metadata": {
        "id": "eP3wUnIvGg6y"
      }
    },
    {
      "cell_type": "markdown",
      "source": [],
      "metadata": {
        "id": "2RtJVuZRGeQq"
      }
    },
    {
      "cell_type": "code",
      "source": [
        "# Create a small batch size for images...  let's say 10\n",
        "train_loader = DataLoader(train_data, batch_size=10, shuffle=True)\n",
        "test_loader = DataLoader(test_data, batch_size=10, shuffle=False)"
      ],
      "metadata": {
        "id": "wo-rFFRtDRhr"
      },
      "execution_count": 18,
      "outputs": []
    },
    {
      "cell_type": "code",
      "source": [
        "# Define the CNN Model\n",
        "# Decribe the convolutional layer and what it's doing (2 convolutional layers)\n",
        "# This is an example\n",
        "conv1 = nn.Conv2d(1, 6, 3, 1)\n",
        "conv2 = nn.Conv2d(in_channels=6, out_channels=16, kernel_size=3, stride=1)\n"
      ],
      "metadata": {
        "id": "Rn0RJXAID7id"
      },
      "execution_count": 19,
      "outputs": []
    },
    {
      "cell_type": "code",
      "source": [
        "# Grab 1 MNIST record/image\n",
        "for i, (X_train, y_train) in enumerate(train_data):\n",
        "  break"
      ],
      "metadata": {
        "id": "gNMCIZGZE3Km"
      },
      "execution_count": 20,
      "outputs": []
    },
    {
      "cell_type": "code",
      "source": [
        "X_train"
      ],
      "metadata": {
        "colab": {
          "base_uri": "https://localhost:8080/"
        },
        "id": "qw83YVr2HN-s",
        "outputId": "32605ad3-68eb-43eb-fd19-b7b92e9613a3"
      },
      "execution_count": 21,
      "outputs": [
        {
          "output_type": "execute_result",
          "data": {
            "text/plain": [
              "tensor([[[0.0000, 0.0000, 0.0000, 0.0000, 0.0000, 0.0000, 0.0000, 0.0000,\n",
              "          0.0000, 0.0000, 0.0000, 0.0000, 0.0000, 0.0000, 0.0000, 0.0000,\n",
              "          0.0000, 0.0000, 0.0000, 0.0000, 0.0000, 0.0000, 0.0000, 0.0000,\n",
              "          0.0000, 0.0000, 0.0000, 0.0000],\n",
              "         [0.0000, 0.0000, 0.0000, 0.0000, 0.0000, 0.0000, 0.0000, 0.0000,\n",
              "          0.0000, 0.0000, 0.0000, 0.0000, 0.0000, 0.0000, 0.0000, 0.0000,\n",
              "          0.0000, 0.0000, 0.0000, 0.0000, 0.0000, 0.0000, 0.0000, 0.0000,\n",
              "          0.0000, 0.0000, 0.0000, 0.0000],\n",
              "         [0.0000, 0.0000, 0.0000, 0.0000, 0.0000, 0.0000, 0.0000, 0.0000,\n",
              "          0.0000, 0.0000, 0.0000, 0.0000, 0.0000, 0.0000, 0.0000, 0.0000,\n",
              "          0.0000, 0.0000, 0.0000, 0.0000, 0.0000, 0.0000, 0.0000, 0.0000,\n",
              "          0.0000, 0.0000, 0.0000, 0.0000],\n",
              "         [0.0000, 0.0000, 0.0000, 0.0000, 0.0000, 0.0000, 0.0000, 0.0000,\n",
              "          0.0000, 0.0000, 0.0000, 0.0000, 0.0000, 0.0000, 0.0000, 0.0000,\n",
              "          0.0000, 0.0000, 0.0000, 0.0000, 0.0000, 0.0000, 0.0000, 0.0000,\n",
              "          0.0000, 0.0000, 0.0000, 0.0000],\n",
              "         [0.0000, 0.0000, 0.0000, 0.0000, 0.0000, 0.0000, 0.0000, 0.0000,\n",
              "          0.0000, 0.0000, 0.0000, 0.0000, 0.0000, 0.0000, 0.0000, 0.0000,\n",
              "          0.0000, 0.0000, 0.0000, 0.0000, 0.0000, 0.0000, 0.0000, 0.0000,\n",
              "          0.0000, 0.0000, 0.0000, 0.0000],\n",
              "         [0.0000, 0.0000, 0.0000, 0.0000, 0.0000, 0.0000, 0.0000, 0.0000,\n",
              "          0.0000, 0.0000, 0.0000, 0.0000, 0.0118, 0.0706, 0.0706, 0.0706,\n",
              "          0.4941, 0.5333, 0.6863, 0.1020, 0.6510, 1.0000, 0.9686, 0.4980,\n",
              "          0.0000, 0.0000, 0.0000, 0.0000],\n",
              "         [0.0000, 0.0000, 0.0000, 0.0000, 0.0000, 0.0000, 0.0000, 0.0000,\n",
              "          0.1176, 0.1412, 0.3686, 0.6039, 0.6667, 0.9922, 0.9922, 0.9922,\n",
              "          0.9922, 0.9922, 0.8824, 0.6745, 0.9922, 0.9490, 0.7647, 0.2510,\n",
              "          0.0000, 0.0000, 0.0000, 0.0000],\n",
              "         [0.0000, 0.0000, 0.0000, 0.0000, 0.0000, 0.0000, 0.0000, 0.1922,\n",
              "          0.9333, 0.9922, 0.9922, 0.9922, 0.9922, 0.9922, 0.9922, 0.9922,\n",
              "          0.9922, 0.9843, 0.3647, 0.3216, 0.3216, 0.2196, 0.1529, 0.0000,\n",
              "          0.0000, 0.0000, 0.0000, 0.0000],\n",
              "         [0.0000, 0.0000, 0.0000, 0.0000, 0.0000, 0.0000, 0.0000, 0.0706,\n",
              "          0.8588, 0.9922, 0.9922, 0.9922, 0.9922, 0.9922, 0.7765, 0.7137,\n",
              "          0.9686, 0.9451, 0.0000, 0.0000, 0.0000, 0.0000, 0.0000, 0.0000,\n",
              "          0.0000, 0.0000, 0.0000, 0.0000],\n",
              "         [0.0000, 0.0000, 0.0000, 0.0000, 0.0000, 0.0000, 0.0000, 0.0000,\n",
              "          0.3137, 0.6118, 0.4196, 0.9922, 0.9922, 0.8039, 0.0431, 0.0000,\n",
              "          0.1686, 0.6039, 0.0000, 0.0000, 0.0000, 0.0000, 0.0000, 0.0000,\n",
              "          0.0000, 0.0000, 0.0000, 0.0000],\n",
              "         [0.0000, 0.0000, 0.0000, 0.0000, 0.0000, 0.0000, 0.0000, 0.0000,\n",
              "          0.0000, 0.0549, 0.0039, 0.6039, 0.9922, 0.3529, 0.0000, 0.0000,\n",
              "          0.0000, 0.0000, 0.0000, 0.0000, 0.0000, 0.0000, 0.0000, 0.0000,\n",
              "          0.0000, 0.0000, 0.0000, 0.0000],\n",
              "         [0.0000, 0.0000, 0.0000, 0.0000, 0.0000, 0.0000, 0.0000, 0.0000,\n",
              "          0.0000, 0.0000, 0.0000, 0.5451, 0.9922, 0.7451, 0.0078, 0.0000,\n",
              "          0.0000, 0.0000, 0.0000, 0.0000, 0.0000, 0.0000, 0.0000, 0.0000,\n",
              "          0.0000, 0.0000, 0.0000, 0.0000],\n",
              "         [0.0000, 0.0000, 0.0000, 0.0000, 0.0000, 0.0000, 0.0000, 0.0000,\n",
              "          0.0000, 0.0000, 0.0000, 0.0431, 0.7451, 0.9922, 0.2745, 0.0000,\n",
              "          0.0000, 0.0000, 0.0000, 0.0000, 0.0000, 0.0000, 0.0000, 0.0000,\n",
              "          0.0000, 0.0000, 0.0000, 0.0000],\n",
              "         [0.0000, 0.0000, 0.0000, 0.0000, 0.0000, 0.0000, 0.0000, 0.0000,\n",
              "          0.0000, 0.0000, 0.0000, 0.0000, 0.1373, 0.9451, 0.8824, 0.6275,\n",
              "          0.4235, 0.0039, 0.0000, 0.0000, 0.0000, 0.0000, 0.0000, 0.0000,\n",
              "          0.0000, 0.0000, 0.0000, 0.0000],\n",
              "         [0.0000, 0.0000, 0.0000, 0.0000, 0.0000, 0.0000, 0.0000, 0.0000,\n",
              "          0.0000, 0.0000, 0.0000, 0.0000, 0.0000, 0.3176, 0.9412, 0.9922,\n",
              "          0.9922, 0.4667, 0.0980, 0.0000, 0.0000, 0.0000, 0.0000, 0.0000,\n",
              "          0.0000, 0.0000, 0.0000, 0.0000],\n",
              "         [0.0000, 0.0000, 0.0000, 0.0000, 0.0000, 0.0000, 0.0000, 0.0000,\n",
              "          0.0000, 0.0000, 0.0000, 0.0000, 0.0000, 0.0000, 0.1765, 0.7294,\n",
              "          0.9922, 0.9922, 0.5882, 0.1059, 0.0000, 0.0000, 0.0000, 0.0000,\n",
              "          0.0000, 0.0000, 0.0000, 0.0000],\n",
              "         [0.0000, 0.0000, 0.0000, 0.0000, 0.0000, 0.0000, 0.0000, 0.0000,\n",
              "          0.0000, 0.0000, 0.0000, 0.0000, 0.0000, 0.0000, 0.0000, 0.0627,\n",
              "          0.3647, 0.9882, 0.9922, 0.7333, 0.0000, 0.0000, 0.0000, 0.0000,\n",
              "          0.0000, 0.0000, 0.0000, 0.0000],\n",
              "         [0.0000, 0.0000, 0.0000, 0.0000, 0.0000, 0.0000, 0.0000, 0.0000,\n",
              "          0.0000, 0.0000, 0.0000, 0.0000, 0.0000, 0.0000, 0.0000, 0.0000,\n",
              "          0.0000, 0.9765, 0.9922, 0.9765, 0.2510, 0.0000, 0.0000, 0.0000,\n",
              "          0.0000, 0.0000, 0.0000, 0.0000],\n",
              "         [0.0000, 0.0000, 0.0000, 0.0000, 0.0000, 0.0000, 0.0000, 0.0000,\n",
              "          0.0000, 0.0000, 0.0000, 0.0000, 0.0000, 0.0000, 0.1804, 0.5098,\n",
              "          0.7176, 0.9922, 0.9922, 0.8118, 0.0078, 0.0000, 0.0000, 0.0000,\n",
              "          0.0000, 0.0000, 0.0000, 0.0000],\n",
              "         [0.0000, 0.0000, 0.0000, 0.0000, 0.0000, 0.0000, 0.0000, 0.0000,\n",
              "          0.0000, 0.0000, 0.0000, 0.0000, 0.1529, 0.5804, 0.8980, 0.9922,\n",
              "          0.9922, 0.9922, 0.9804, 0.7137, 0.0000, 0.0000, 0.0000, 0.0000,\n",
              "          0.0000, 0.0000, 0.0000, 0.0000],\n",
              "         [0.0000, 0.0000, 0.0000, 0.0000, 0.0000, 0.0000, 0.0000, 0.0000,\n",
              "          0.0000, 0.0000, 0.0941, 0.4471, 0.8667, 0.9922, 0.9922, 0.9922,\n",
              "          0.9922, 0.7882, 0.3059, 0.0000, 0.0000, 0.0000, 0.0000, 0.0000,\n",
              "          0.0000, 0.0000, 0.0000, 0.0000],\n",
              "         [0.0000, 0.0000, 0.0000, 0.0000, 0.0000, 0.0000, 0.0000, 0.0000,\n",
              "          0.0902, 0.2588, 0.8353, 0.9922, 0.9922, 0.9922, 0.9922, 0.7765,\n",
              "          0.3176, 0.0078, 0.0000, 0.0000, 0.0000, 0.0000, 0.0000, 0.0000,\n",
              "          0.0000, 0.0000, 0.0000, 0.0000],\n",
              "         [0.0000, 0.0000, 0.0000, 0.0000, 0.0000, 0.0000, 0.0706, 0.6706,\n",
              "          0.8588, 0.9922, 0.9922, 0.9922, 0.9922, 0.7647, 0.3137, 0.0353,\n",
              "          0.0000, 0.0000, 0.0000, 0.0000, 0.0000, 0.0000, 0.0000, 0.0000,\n",
              "          0.0000, 0.0000, 0.0000, 0.0000],\n",
              "         [0.0000, 0.0000, 0.0000, 0.0000, 0.2157, 0.6745, 0.8863, 0.9922,\n",
              "          0.9922, 0.9922, 0.9922, 0.9569, 0.5216, 0.0431, 0.0000, 0.0000,\n",
              "          0.0000, 0.0000, 0.0000, 0.0000, 0.0000, 0.0000, 0.0000, 0.0000,\n",
              "          0.0000, 0.0000, 0.0000, 0.0000],\n",
              "         [0.0000, 0.0000, 0.0000, 0.0000, 0.5333, 0.9922, 0.9922, 0.9922,\n",
              "          0.8314, 0.5294, 0.5176, 0.0627, 0.0000, 0.0000, 0.0000, 0.0000,\n",
              "          0.0000, 0.0000, 0.0000, 0.0000, 0.0000, 0.0000, 0.0000, 0.0000,\n",
              "          0.0000, 0.0000, 0.0000, 0.0000],\n",
              "         [0.0000, 0.0000, 0.0000, 0.0000, 0.0000, 0.0000, 0.0000, 0.0000,\n",
              "          0.0000, 0.0000, 0.0000, 0.0000, 0.0000, 0.0000, 0.0000, 0.0000,\n",
              "          0.0000, 0.0000, 0.0000, 0.0000, 0.0000, 0.0000, 0.0000, 0.0000,\n",
              "          0.0000, 0.0000, 0.0000, 0.0000],\n",
              "         [0.0000, 0.0000, 0.0000, 0.0000, 0.0000, 0.0000, 0.0000, 0.0000,\n",
              "          0.0000, 0.0000, 0.0000, 0.0000, 0.0000, 0.0000, 0.0000, 0.0000,\n",
              "          0.0000, 0.0000, 0.0000, 0.0000, 0.0000, 0.0000, 0.0000, 0.0000,\n",
              "          0.0000, 0.0000, 0.0000, 0.0000],\n",
              "         [0.0000, 0.0000, 0.0000, 0.0000, 0.0000, 0.0000, 0.0000, 0.0000,\n",
              "          0.0000, 0.0000, 0.0000, 0.0000, 0.0000, 0.0000, 0.0000, 0.0000,\n",
              "          0.0000, 0.0000, 0.0000, 0.0000, 0.0000, 0.0000, 0.0000, 0.0000,\n",
              "          0.0000, 0.0000, 0.0000, 0.0000]]])"
            ]
          },
          "metadata": {},
          "execution_count": 21
        }
      ]
    },
    {
      "cell_type": "code",
      "source": [
        " X_train.shape"
      ],
      "metadata": {
        "colab": {
          "base_uri": "https://localhost:8080/"
        },
        "id": "u53ZHUzgFYu_",
        "outputId": "7b7ce6fd-9819-47a7-9b1c-e3b8c098f3a5"
      },
      "execution_count": 22,
      "outputs": [
        {
          "output_type": "execute_result",
          "data": {
            "text/plain": [
              "torch.Size([1, 28, 28])"
            ]
          },
          "metadata": {},
          "execution_count": 22
        }
      ]
    },
    {
      "cell_type": "code",
      "source": [
        "x = X_train.view(1,1, 28, 28)"
      ],
      "metadata": {
        "id": "7IwlcOA1FbVI"
      },
      "execution_count": 23,
      "outputs": []
    },
    {
      "cell_type": "code",
      "source": [
        "# Perform the first convolution\n",
        "x = F.relu(conv1(x)) # Rectified Linear Unit for the activation function"
      ],
      "metadata": {
        "id": "KCa9Au_IFwtY"
      },
      "execution_count": 24,
      "outputs": []
    },
    {
      "cell_type": "code",
      "source": [
        "x"
      ],
      "metadata": {
        "colab": {
          "base_uri": "https://localhost:8080/"
        },
        "id": "gWOjl8QEHIg8",
        "outputId": "7e1e7665-d870-4e26-fe5d-5cc9c52bfa2c"
      },
      "execution_count": 25,
      "outputs": [
        {
          "output_type": "execute_result",
          "data": {
            "text/plain": [
              "tensor([[[[0.0787, 0.0787, 0.0787,  ..., 0.0787, 0.0787, 0.0787],\n",
              "          [0.0787, 0.0787, 0.0787,  ..., 0.0787, 0.0787, 0.0787],\n",
              "          [0.0787, 0.0787, 0.0787,  ..., 0.0787, 0.0787, 0.0787],\n",
              "          ...,\n",
              "          [0.0787, 0.0787, 0.1688,  ..., 0.0787, 0.0787, 0.0787],\n",
              "          [0.0787, 0.0787, 0.0390,  ..., 0.0787, 0.0787, 0.0787],\n",
              "          [0.0787, 0.0787, 0.0787,  ..., 0.0787, 0.0787, 0.0787]],\n",
              "\n",
              "         [[0.1850, 0.1850, 0.1850,  ..., 0.1850, 0.1850, 0.1850],\n",
              "          [0.1850, 0.1850, 0.1850,  ..., 0.1850, 0.1850, 0.1850],\n",
              "          [0.1850, 0.1850, 0.1850,  ..., 0.1850, 0.1850, 0.1850],\n",
              "          ...,\n",
              "          [0.1850, 0.1850, 0.1209,  ..., 0.1850, 0.1850, 0.1850],\n",
              "          [0.1850, 0.1850, 0.2727,  ..., 0.1850, 0.1850, 0.1850],\n",
              "          [0.1850, 0.1850, 0.1850,  ..., 0.1850, 0.1850, 0.1850]],\n",
              "\n",
              "         [[0.0170, 0.0170, 0.0170,  ..., 0.0170, 0.0170, 0.0170],\n",
              "          [0.0170, 0.0170, 0.0170,  ..., 0.0170, 0.0170, 0.0170],\n",
              "          [0.0170, 0.0170, 0.0170,  ..., 0.0170, 0.0170, 0.0170],\n",
              "          ...,\n",
              "          [0.0170, 0.0170, 0.1280,  ..., 0.0170, 0.0170, 0.0170],\n",
              "          [0.0170, 0.0170, 0.1844,  ..., 0.0170, 0.0170, 0.0170],\n",
              "          [0.0170, 0.0170, 0.0170,  ..., 0.0170, 0.0170, 0.0170]],\n",
              "\n",
              "         [[0.1734, 0.1734, 0.1734,  ..., 0.1734, 0.1734, 0.1734],\n",
              "          [0.1734, 0.1734, 0.1734,  ..., 0.1734, 0.1734, 0.1734],\n",
              "          [0.1734, 0.1734, 0.1734,  ..., 0.1734, 0.1734, 0.1734],\n",
              "          ...,\n",
              "          [0.1734, 0.1734, 0.0000,  ..., 0.1734, 0.1734, 0.1734],\n",
              "          [0.1734, 0.1734, 0.0454,  ..., 0.1734, 0.1734, 0.1734],\n",
              "          [0.1734, 0.1734, 0.1734,  ..., 0.1734, 0.1734, 0.1734]],\n",
              "\n",
              "         [[0.0000, 0.0000, 0.0000,  ..., 0.0000, 0.0000, 0.0000],\n",
              "          [0.0000, 0.0000, 0.0000,  ..., 0.0000, 0.0000, 0.0000],\n",
              "          [0.0000, 0.0000, 0.0000,  ..., 0.0000, 0.0000, 0.0000],\n",
              "          ...,\n",
              "          [0.0000, 0.0000, 0.0000,  ..., 0.0000, 0.0000, 0.0000],\n",
              "          [0.0000, 0.0000, 0.0000,  ..., 0.0000, 0.0000, 0.0000],\n",
              "          [0.0000, 0.0000, 0.0000,  ..., 0.0000, 0.0000, 0.0000]],\n",
              "\n",
              "         [[0.0000, 0.0000, 0.0000,  ..., 0.0000, 0.0000, 0.0000],\n",
              "          [0.0000, 0.0000, 0.0000,  ..., 0.0000, 0.0000, 0.0000],\n",
              "          [0.0000, 0.0000, 0.0000,  ..., 0.0000, 0.0000, 0.0000],\n",
              "          ...,\n",
              "          [0.0000, 0.0000, 0.0000,  ..., 0.0000, 0.0000, 0.0000],\n",
              "          [0.0000, 0.0000, 0.0000,  ..., 0.0000, 0.0000, 0.0000],\n",
              "          [0.0000, 0.0000, 0.0000,  ..., 0.0000, 0.0000, 0.0000]]]],\n",
              "       grad_fn=<ReluBackward0>)"
            ]
          },
          "metadata": {},
          "execution_count": 25
        }
      ]
    },
    {
      "cell_type": "code",
      "source": [
        "# 1 is the single image, 6 is the filters asked for, 26x26\n",
        "x.shape"
      ],
      "metadata": {
        "colab": {
          "base_uri": "https://localhost:8080/"
        },
        "id": "nomKOYYWHJAq",
        "outputId": "93b4e802-9ab7-4f3a-a850-0299cd9b7101"
      },
      "execution_count": 26,
      "outputs": [
        {
          "output_type": "execute_result",
          "data": {
            "text/plain": [
              "torch.Size([1, 6, 26, 26])"
            ]
          },
          "metadata": {},
          "execution_count": 26
        }
      ]
    },
    {
      "cell_type": "code",
      "source": [
        "# Pass through the pooling layer\n",
        "x = F.max_pool2d(x, 2, 2) # Kernel of 2 and stride of 2"
      ],
      "metadata": {
        "id": "dBKj0-csHX-L"
      },
      "execution_count": 27,
      "outputs": []
    },
    {
      "cell_type": "code",
      "source": [
        "x.shape # 26 / 2 = 13"
      ],
      "metadata": {
        "colab": {
          "base_uri": "https://localhost:8080/"
        },
        "id": "B0ihX7lnIO8G",
        "outputId": "d67544dc-5154-4805-bd89-b02ba994c681"
      },
      "execution_count": 28,
      "outputs": [
        {
          "output_type": "execute_result",
          "data": {
            "text/plain": [
              "torch.Size([1, 6, 13, 13])"
            ]
          },
          "metadata": {},
          "execution_count": 28
        }
      ]
    },
    {
      "cell_type": "code",
      "source": [
        "# Do the second convolutional layer\n",
        "x = F.relu(conv2(x))"
      ],
      "metadata": {
        "id": "L3f7UHxMIZ7s"
      },
      "execution_count": 29,
      "outputs": []
    },
    {
      "cell_type": "code",
      "source": [
        "x.shape # Again, no padding was specified so 2 pixels were lost around the outside of the image"
      ],
      "metadata": {
        "colab": {
          "base_uri": "https://localhost:8080/"
        },
        "id": "aMtMMPneI6BY",
        "outputId": "dab0b618-3e01-4f8c-fbe3-be8de4348c4a"
      },
      "execution_count": 30,
      "outputs": [
        {
          "output_type": "execute_result",
          "data": {
            "text/plain": [
              "torch.Size([1, 16, 11, 11])"
            ]
          },
          "metadata": {},
          "execution_count": 30
        }
      ]
    },
    {
      "cell_type": "code",
      "source": [
        "# Pooling layer\n",
        "x = F.max_pool2d(x, 2, 2)"
      ],
      "metadata": {
        "id": "cZoOMCuUI7Uf"
      },
      "execution_count": 31,
      "outputs": []
    },
    {
      "cell_type": "code",
      "source": [
        "x.shape # 11 / 2 = 5.5 but it is rounded down because no data can invented to round up"
      ],
      "metadata": {
        "colab": {
          "base_uri": "https://localhost:8080/"
        },
        "id": "bsrhQBwUJR0q",
        "outputId": "cb856153-2f40-4deb-ea55-a1855bea4aff"
      },
      "execution_count": 32,
      "outputs": [
        {
          "output_type": "execute_result",
          "data": {
            "text/plain": [
              "torch.Size([1, 16, 5, 5])"
            ]
          },
          "metadata": {},
          "execution_count": 32
        }
      ]
    },
    {
      "cell_type": "code",
      "source": [
        "(((28-2) / 2) -2) / 2"
      ],
      "metadata": {
        "colab": {
          "base_uri": "https://localhost:8080/"
        },
        "id": "A2Q12s36JTsE",
        "outputId": "da36f9b8-ba59-4f0a-8a3f-346b9cad781b"
      },
      "execution_count": 33,
      "outputs": [
        {
          "output_type": "execute_result",
          "data": {
            "text/plain": [
              "5.5"
            ]
          },
          "metadata": {},
          "execution_count": 33
        }
      ]
    },
    {
      "cell_type": "markdown",
      "source": [
        "## Convolutional Neural Network Model - Deep Learning with PyTorch 16\n"
      ],
      "metadata": {
        "id": "SnS7ESb9KfjQ"
      }
    },
    {
      "cell_type": "code",
      "source": [
        "# Model Class\n",
        "class ConvolutionalNetwork(nn.Module):\n",
        "  def __init__(self) -> None:\n",
        "    super().__init__()\n",
        "    self.conv1 = nn.Conv2d(1, 6, 3, 1)\n",
        "    self.conv2 = nn.Conv2d(6, 16, 3, 1)\n",
        "\n",
        "    # Fully Connected Layers\n",
        "    self.fc1 = nn.Linear(5*5*16, 120)\n",
        "    self.fc2 = nn.Linear(120, 84)\n",
        "    self.fc3 = nn.Linear(84, 10)\n",
        "\n",
        "  def forward(self, X):\n",
        "    X = F.relu(self.conv1(X))\n",
        "    X = F.max_pool2d(X, 2, 2) # 2x2 kernel and stride = 2\n",
        "    # Second pass\n",
        "    X = F.relu(self.conv2(X))\n",
        "    X = F.max_pool2d(X, 2, 2) # 2x2 kernel and stride = 2\n",
        "\n",
        "    # Re-View the data to flatten it out\n",
        "    X = X.view(-1, 16*5*5) # Negative one so the batch size can be varied\n",
        "\n",
        "    # Fully Connected Layers\n",
        "    X = F.relu(self.fc1(X))\n",
        "    X = F.relu(self.fc2(X))\n",
        "    X = self.fc3(X)\n",
        "\n",
        "    return F.log_softmax(X, dim=1)\n",
        "\n"
      ],
      "metadata": {
        "id": "rNfrfdybKhsX"
      },
      "execution_count": 34,
      "outputs": []
    },
    {
      "cell_type": "code",
      "source": [
        "# Create an Instance of the Model\n",
        "torch.manual_seed(41)\n",
        "model = ConvolutionalNetwork()\n",
        "model"
      ],
      "metadata": {
        "colab": {
          "base_uri": "https://localhost:8080/"
        },
        "id": "Niysr8D9NJQQ",
        "outputId": "0e207651-c8d2-4781-c220-5a964915b187"
      },
      "execution_count": 35,
      "outputs": [
        {
          "output_type": "execute_result",
          "data": {
            "text/plain": [
              "ConvolutionalNetwork(\n",
              "  (conv1): Conv2d(1, 6, kernel_size=(3, 3), stride=(1, 1))\n",
              "  (conv2): Conv2d(6, 16, kernel_size=(3, 3), stride=(1, 1))\n",
              "  (fc1): Linear(in_features=400, out_features=120, bias=True)\n",
              "  (fc2): Linear(in_features=120, out_features=84, bias=True)\n",
              "  (fc3): Linear(in_features=84, out_features=10, bias=True)\n",
              ")"
            ]
          },
          "metadata": {},
          "execution_count": 35
        }
      ]
    },
    {
      "cell_type": "code",
      "source": [
        "# Loss Function Optimizer\n",
        "criterion = nn.CrossEntropyLoss()\n",
        "optimizer = torch.optim.Adam(model.parameters(), lr=0.001) # The smaller the learning rate, the longer it's going to take to train"
      ],
      "metadata": {
        "id": "JxAGUwiENgox"
      },
      "execution_count": 36,
      "outputs": []
    },
    {
      "cell_type": "markdown",
      "source": [
        "## Train and Test CNN Model - Deep Learning with PyTorch 17"
      ],
      "metadata": {
        "id": "fXZl6iqUOz7Q"
      }
    },
    {
      "cell_type": "code",
      "source": [
        "import time\n",
        "start_time = time.time()\n",
        "\n",
        "# Create Variables to track things\n",
        "epochs = 5\n",
        "train_losses = []\n",
        "test_losses = []\n",
        "train_correct = []\n",
        "test_correct = []\n",
        "\n",
        "\n",
        "# For Loop offor Epochs\n",
        "for i in range(epochs):\n",
        "  training_correct = 0\n",
        "  testing_correct = 0\n",
        "\n",
        "  # Train\n",
        "  for b, (X_train, y_train) in enumerate(train_loader):\n",
        "    b += 1 # Start the batches at 1\n",
        "\n",
        "    y_pred = model(X_train) # Get the predicted values from the training set (data is 2d, not flattened.)\n",
        "    loss = criterion(y_pred, y_train) # How off are we? Compare the predictions to the correct answers in y_train\n",
        "\n",
        "    predicted = torch.max(y_pred.data, 1)[1] # Add up the number of correct predictions. Indexed off the first point\n",
        "    batch_correct = (predicted == y_train).sum() # How many we got correct from this specific batch. True=1, False=0, sum those up.\n",
        "    training_correct += batch_correct # Keep track as we go along in training.\n",
        "\n",
        "    # Update the parameters\n",
        "    optimizer.zero_grad()\n",
        "    loss.backward()\n",
        "    optimizer.step()\n",
        "\n",
        "    # Print out some results\n",
        "    if b % 600 == 0 :\n",
        "      print(f'Epoch: {i} Batch: {b} Loss: {loss.item()}')\n",
        "\n",
        "\n",
        "  train_losses.append(loss)\n",
        "  train_correct.append(training_correct)\n",
        "\n",
        "  # Test\n",
        "  with torch.no_grad(): # No gradient so the weights and the bias are not updated with test data\n",
        "    for b , (X_test, y_test) in enumerate(test_loader):\n",
        "      y_val = model(X_test)\n",
        "      predicted = torch.max(y_val.data, 1)[1] # Adding up correct predictions\n",
        "      testing_correct += (predicted == y_test).sum() # True=1, False=0, sum all\n",
        "\n",
        "  loss = criterion(y_val, y_test)\n",
        "  test_losses.append(loss)\n",
        "  test_correct.append(testing_correct)\n",
        "\n",
        "current_time = time.time()\n",
        "total = current_time - start_time\n",
        "print(f'Training time: {total/60} minutes!')\n",
        "total"
      ],
      "metadata": {
        "colab": {
          "base_uri": "https://localhost:8080/"
        },
        "id": "BoUW87PzO131",
        "outputId": "c51fe8c5-174f-478b-e5e3-3620f785fd48"
      },
      "execution_count": 37,
      "outputs": [
        {
          "output_type": "stream",
          "name": "stdout",
          "text": [
            "Epoch: 0 Batch: 600 Loss: 0.1623624861240387\n",
            "Epoch: 0 Batch: 1200 Loss: 0.1641543209552765\n",
            "Epoch: 0 Batch: 1800 Loss: 0.5098981857299805\n",
            "Epoch: 0 Batch: 2400 Loss: 0.1306418627500534\n",
            "Epoch: 0 Batch: 3000 Loss: 0.005703817121684551\n",
            "Epoch: 0 Batch: 3600 Loss: 0.46332210302352905\n",
            "Epoch: 0 Batch: 4200 Loss: 0.004197881557047367\n",
            "Epoch: 0 Batch: 4800 Loss: 0.0018000779673457146\n",
            "Epoch: 0 Batch: 5400 Loss: 0.07375213503837585\n",
            "Epoch: 0 Batch: 6000 Loss: 0.0003859388525597751\n",
            "Epoch: 1 Batch: 600 Loss: 0.004290326032787561\n",
            "Epoch: 1 Batch: 1200 Loss: 0.2521086633205414\n",
            "Epoch: 1 Batch: 1800 Loss: 0.002427826402708888\n",
            "Epoch: 1 Batch: 2400 Loss: 0.0021776421926915646\n",
            "Epoch: 1 Batch: 3000 Loss: 0.02223074808716774\n",
            "Epoch: 1 Batch: 3600 Loss: 0.6111965179443359\n",
            "Epoch: 1 Batch: 4200 Loss: 0.016707444563508034\n",
            "Epoch: 1 Batch: 4800 Loss: 0.0006908098584972322\n",
            "Epoch: 1 Batch: 5400 Loss: 0.0002799260546453297\n",
            "Epoch: 1 Batch: 6000 Loss: 0.4848875403404236\n",
            "Epoch: 2 Batch: 600 Loss: 0.03840283304452896\n",
            "Epoch: 2 Batch: 1200 Loss: 0.005653898231685162\n",
            "Epoch: 2 Batch: 1800 Loss: 0.0019390363013371825\n",
            "Epoch: 2 Batch: 2400 Loss: 0.013562331907451153\n",
            "Epoch: 2 Batch: 3000 Loss: 0.004443833604454994\n",
            "Epoch: 2 Batch: 3600 Loss: 0.0005063370917923748\n",
            "Epoch: 2 Batch: 4200 Loss: 0.04586367309093475\n",
            "Epoch: 2 Batch: 4800 Loss: 0.006673174444586039\n",
            "Epoch: 2 Batch: 5400 Loss: 0.02076614275574684\n",
            "Epoch: 2 Batch: 6000 Loss: 0.13829907774925232\n",
            "Epoch: 3 Batch: 600 Loss: 0.0021926886402070522\n",
            "Epoch: 3 Batch: 1200 Loss: 0.10718250274658203\n",
            "Epoch: 3 Batch: 1800 Loss: 0.0005934062064625323\n",
            "Epoch: 3 Batch: 2400 Loss: 0.00016517048061359674\n",
            "Epoch: 3 Batch: 3000 Loss: 0.0017503199633210897\n",
            "Epoch: 3 Batch: 3600 Loss: 0.0007489544805139303\n",
            "Epoch: 3 Batch: 4200 Loss: 0.01164452824741602\n",
            "Epoch: 3 Batch: 4800 Loss: 7.926556281745434e-05\n",
            "Epoch: 3 Batch: 5400 Loss: 0.039218269288539886\n",
            "Epoch: 3 Batch: 6000 Loss: 0.012269356288015842\n",
            "Epoch: 4 Batch: 600 Loss: 0.019970223307609558\n",
            "Epoch: 4 Batch: 1200 Loss: 0.031921446323394775\n",
            "Epoch: 4 Batch: 1800 Loss: 0.2468046396970749\n",
            "Epoch: 4 Batch: 2400 Loss: 0.00011870403250213712\n",
            "Epoch: 4 Batch: 3000 Loss: 0.0005112775252200663\n",
            "Epoch: 4 Batch: 3600 Loss: 0.00011618930147960782\n",
            "Epoch: 4 Batch: 4200 Loss: 0.00035029969876632094\n",
            "Epoch: 4 Batch: 4800 Loss: 0.04948687180876732\n",
            "Epoch: 4 Batch: 5400 Loss: 0.03161567822098732\n",
            "Epoch: 4 Batch: 6000 Loss: 0.0017111159395426512\n",
            "Training time: 3.0181969881057737 minutes!\n"
          ]
        },
        {
          "output_type": "execute_result",
          "data": {
            "text/plain": [
              "181.09181928634644"
            ]
          },
          "metadata": {},
          "execution_count": 37
        }
      ]
    },
    {
      "cell_type": "code",
      "source": [
        "# Graph the loss of Epoch\n",
        "train_losses = [tl.item() for tl in train_losses]\n",
        "plt.plot(train_losses, label='Training Loss')\n",
        "plt.plot(test_losses, label='Validation Loss')\n",
        "plt.title('Loss at Epoch')\n",
        "plt.legend()"
      ],
      "metadata": {
        "colab": {
          "base_uri": "https://localhost:8080/",
          "height": 470
        },
        "id": "fsJsdSSjm36K",
        "outputId": "7da1d299-87b0-4090-c232-7825b59ef3d9"
      },
      "execution_count": 38,
      "outputs": [
        {
          "output_type": "execute_result",
          "data": {
            "text/plain": [
              "<matplotlib.legend.Legend at 0x7d8341f4a080>"
            ]
          },
          "metadata": {},
          "execution_count": 38
        },
        {
          "output_type": "display_data",
          "data": {
            "text/plain": [
              "<Figure size 640x480 with 1 Axes>"
            ],
            "image/png": "[encoded data removed]"
          },
          "metadata": {}
        }
      ]
    },
    {
      "cell_type": "code",
      "source": [
        "\n",
        "import time\n",
        "start_time = time.time()\n",
        "\n",
        "# Create Variables To Tracks Things\n",
        "epochs = 5\n",
        "train_losses = []\n",
        "test_losses = []\n",
        "train_correct = []\n",
        "test_correct = []\n",
        "\n",
        "# For Loop of Epochs\n",
        "for i in range(epochs):\n",
        "  trn_corr = 0\n",
        "  tst_corr = 0\n",
        "\n",
        "\n",
        "  # Train\n",
        "  for b,(X_train, y_train) in enumerate(train_loader):\n",
        "    b+=1 # start our batches at 1\n",
        "    y_pred = model(X_train) # get predicted values from the training set. Not flattened 2D\n",
        "    loss = criterion(y_pred, y_train) # how off are we? Compare the predictions to correct answers in y_train\n",
        "\n",
        "    predicted = torch.max(y_pred.data, 1)[1] # add up the number of correct predictions. Indexed off the first point\n",
        "    batch_corr = (predicted == y_train).sum() # how many we got correct from this batch. True = 1, False=0, sum those up\n",
        "    trn_corr += batch_corr # keep track as we go along in training.\n",
        "\n",
        "    # Update our parameters\n",
        "    optimizer.zero_grad()\n",
        "    loss.backward()\n",
        "    optimizer.step()\n",
        "\n",
        "\n",
        "    # Print out some results\n",
        "    if b%600 == 0:\n",
        "      print(f'Epoch: {i}  Batch: {b}  Loss: {loss.item()}')\n",
        "\n",
        "  train_losses.append(loss)\n",
        "  train_correct.append(trn_corr)\n",
        "\n",
        "\n",
        "  # Test\n",
        "  with torch.no_grad(): #No gradient so we don't update our weights and biases with test data\n",
        "    for b,(X_test, y_test) in enumerate(test_loader):\n",
        "      y_val = model(X_test)\n",
        "      predicted = torch.max(y_val.data, 1)[1] # Adding up correct predictions\n",
        "      tst_corr += (predicted == y_test).sum() # T=1 F=0 and sum away\n",
        "\n",
        "\n",
        "  loss = criterion(y_val, y_test)\n",
        "  test_losses.append(loss)\n",
        "  test_correct.append(tst_corr)\n",
        "\n",
        "\n",
        "\n",
        "current_time = time.time()\n",
        "total = current_time - start_time\n",
        "print(f'Training Took: {total/60} minutes!')"
      ],
      "metadata": {
        "colab": {
          "base_uri": "https://localhost:8080/"
        },
        "id": "bcGQGGnsPI1W",
        "outputId": "d0e53005-c7a1-432e-d4d9-3ff4f42a8530"
      },
      "execution_count": 43,
      "outputs": [
        {
          "output_type": "stream",
          "name": "stdout",
          "text": [
            "Epoch: 0  Batch: 600  Loss: 1.5258686971719726e-06\n",
            "Epoch: 0  Batch: 1200  Loss: 0.168989360332489\n",
            "Epoch: 0  Batch: 1800  Loss: 2.086142558255233e-06\n",
            "Epoch: 0  Batch: 2400  Loss: 2.9802276912960224e-07\n",
            "Epoch: 0  Batch: 3000  Loss: 9.488784598943312e-06\n",
            "Epoch: 0  Batch: 3600  Loss: 0.014862915500998497\n",
            "Epoch: 0  Batch: 4200  Loss: 0.00016575635527260602\n",
            "Epoch: 0  Batch: 4800  Loss: 0.00015801463450770825\n",
            "Epoch: 0  Batch: 5400  Loss: 0.00019357565906830132\n",
            "Epoch: 0  Batch: 6000  Loss: 3.496990757412277e-05\n",
            "Epoch: 1  Batch: 600  Loss: 6.198691153258551e-06\n",
            "Epoch: 1  Batch: 1200  Loss: 1.1455599633336533e-05\n",
            "Epoch: 1  Batch: 1800  Loss: 0.001703915884718299\n",
            "Epoch: 1  Batch: 2400  Loss: 1.4305105366929638e-07\n",
            "Epoch: 1  Batch: 3000  Loss: 1.275532326872053e-06\n",
            "Epoch: 1  Batch: 3600  Loss: 0.003019407857209444\n",
            "Epoch: 1  Batch: 4200  Loss: 2.8133265459473478e-06\n",
            "Epoch: 1  Batch: 4800  Loss: 4.0172722037823405e-06\n",
            "Epoch: 1  Batch: 5400  Loss: 7.653100510651711e-06\n",
            "Epoch: 1  Batch: 6000  Loss: 0.0010450903791934252\n",
            "Epoch: 2  Batch: 600  Loss: 8.793851884547621e-05\n",
            "Epoch: 2  Batch: 1200  Loss: 6.437282991100801e-07\n",
            "Epoch: 2  Batch: 1800  Loss: 4.410739222748816e-07\n",
            "Epoch: 2  Batch: 2400  Loss: 1.4066652056499152e-06\n",
            "Epoch: 2  Batch: 3000  Loss: 0.0011308621615171432\n",
            "Epoch: 2  Batch: 3600  Loss: 3.187211768818088e-05\n",
            "Epoch: 2  Batch: 4200  Loss: 4.9947784646064974e-06\n",
            "Epoch: 2  Batch: 4800  Loss: 0.00017195694090332836\n",
            "Epoch: 2  Batch: 5400  Loss: 0.18030156195163727\n",
            "Epoch: 2  Batch: 6000  Loss: 2.675892028491944e-05\n",
            "Epoch: 3  Batch: 600  Loss: 0.0\n",
            "Epoch: 3  Batch: 1200  Loss: 2.2172694116306957e-06\n",
            "Epoch: 3  Batch: 1800  Loss: 1.192092824453539e-08\n",
            "Epoch: 3  Batch: 2400  Loss: 1.6689291726379452e-07\n",
            "Epoch: 3  Batch: 3000  Loss: 1.7642827288000262e-06\n",
            "Epoch: 3  Batch: 3600  Loss: 0.00017890651361085474\n",
            "Epoch: 3  Batch: 4200  Loss: 0.00012734861229546368\n",
            "Epoch: 3  Batch: 4800  Loss: 1.7881379221762472e-07\n",
            "Epoch: 3  Batch: 5400  Loss: 3.3139699553430546e-06\n",
            "Epoch: 3  Batch: 6000  Loss: 0.0\n",
            "Epoch: 4  Batch: 600  Loss: 0.00020975605002604425\n",
            "Epoch: 4  Batch: 1200  Loss: 1.715281541692093e-05\n",
            "Epoch: 4  Batch: 1800  Loss: 5.614644578599837e-06\n",
            "Epoch: 4  Batch: 2400  Loss: 1.561633325763978e-06\n",
            "Epoch: 4  Batch: 3000  Loss: 1.9835362763842568e-05\n",
            "Epoch: 4  Batch: 3600  Loss: 2.360334747208981e-06\n",
            "Epoch: 4  Batch: 4200  Loss: 2.2159549189382233e-05\n",
            "Epoch: 4  Batch: 4800  Loss: 7.152555525635762e-08\n",
            "Epoch: 4  Batch: 5400  Loss: 0.017368320375680923\n",
            "Epoch: 4  Batch: 6000  Loss: 0.142767995595932\n",
            "Training Took: 3.449174189567566 minutes!\n"
          ]
        }
      ]
    },
    {
      "cell_type": "markdown",
      "source": [],
      "metadata": {
        "id": "L7cSwM5fmytA"
      }
    },
    {
      "cell_type": "markdown",
      "source": [
        "## Graph CNN Results - Deep Learning with PyTorch 18"
      ],
      "metadata": {
        "id": "jaKtI6oJlPuj"
      }
    },
    {
      "cell_type": "code",
      "source": [
        "# Graph the loss of Epoch\n",
        "train_losses = [tl.item() for tl in train_losses]\n",
        "plt.plot(train_losses, label='Training Loss')\n",
        "plt.plot(test_losses, label='Validation Loss')\n",
        "plt.title('Loss at Epoch')\n",
        "plt.legend()"
      ],
      "metadata": {
        "colab": {
          "base_uri": "https://localhost:8080/",
          "height": 470
        },
        "id": "B-_lMXXElR4i",
        "outputId": "7e4829dc-6368-4b1a-c33b-db9c0e0a5d7d"
      },
      "execution_count": 44,
      "outputs": [
        {
          "output_type": "execute_result",
          "data": {
            "text/plain": [
              "<matplotlib.legend.Legend at 0x7d833f02dea0>"
            ]
          },
          "metadata": {},
          "execution_count": 44
        },
        {
          "output_type": "display_data",
          "data": {
            "text/plain": [
              "<Figure size 640x480 with 1 Axes>"
            ],
            "image/png": "[encoded data removed]"
          },
          "metadata": {}
        }
      ]
    },
    {
      "cell_type": "code",
      "source": [
        "# Graph the accuracy at the end of each Epoch\n",
        "plt.plot([t/600 for t in train_correct], label='Training Accuracy')\n",
        "plt.plot([t/100 for t in test_correct], label='Validation Accuracy')\n",
        "plt.title('Accuracy at the end of each Epoch')\n",
        "plt.legend()"
      ],
      "metadata": {
        "colab": {
          "base_uri": "https://localhost:8080/",
          "height": 470
        },
        "id": "JqGXAVSdmcB6",
        "outputId": "183298fb-86ff-4ff7-9f5e-d367afdccbb4"
      },
      "execution_count": 45,
      "outputs": [
        {
          "output_type": "execute_result",
          "data": {
            "text/plain": [
              "<matplotlib.legend.Legend at 0x7d833eefb070>"
            ]
          },
          "metadata": {},
          "execution_count": 45
        },
        {
          "output_type": "display_data",
          "data": {
            "text/plain": [
              "<Figure size 640x480 with 1 Axes>"
            ],
            "image/png": "[encoded data removed]"
          },
          "metadata": {}
        }
      ]
    },
    {
      "cell_type": "code",
      "source": [
        "test_load_everything = DataLoader(test_data, batch_size=10_000, shuffle=False)"
      ],
      "metadata": {
        "id": "nJ4FGFlfoWbE"
      },
      "execution_count": 46,
      "outputs": []
    },
    {
      "cell_type": "code",
      "source": [
        "with torch.no_grad():\n",
        "  correct = 0\n",
        "\n",
        "  for X_test, y_test in test_load_everything:\n",
        "    y_val = model(X_test)\n",
        "    predicted = torch.max(y_val.data, 1)[1]\n",
        "    correct += (predicted == y_test).sum()\n"
      ],
      "metadata": {
        "id": "Pu0QRFttpKDQ"
      },
      "execution_count": 48,
      "outputs": []
    },
    {
      "cell_type": "code",
      "source": [
        "# Did for correct (out of 10000)\n",
        "correct.item()"
      ],
      "metadata": {
        "colab": {
          "base_uri": "https://localhost:8080/"
        },
        "id": "C9wJalOkqEgf",
        "outputId": "c1563e65-b7a0-45dd-9bb1-910556bb38bb"
      },
      "execution_count": 49,
      "outputs": [
        {
          "output_type": "execute_result",
          "data": {
            "text/plain": [
              "9897"
            ]
          },
          "metadata": {},
          "execution_count": 49
        }
      ]
    },
    {
      "cell_type": "code",
      "source": [
        " # Did for correct (percentage of correct)\n",
        " correct.item() / len(test_data) * 100"
      ],
      "metadata": {
        "colab": {
          "base_uri": "https://localhost:8080/"
        },
        "id": "8joq09MGqYGu",
        "outputId": "3700bc32-b475-4269-9b1e-7169be2104b9"
      },
      "execution_count": 50,
      "outputs": [
        {
          "output_type": "execute_result",
          "data": {
            "text/plain": [
              "98.97"
            ]
          },
          "metadata": {},
          "execution_count": 50
        }
      ]
    },
    {
      "cell_type": "markdown",
      "source": [],
      "metadata": {
        "id": "Thf-9sn4q5x8"
      }
    }
  ]
}