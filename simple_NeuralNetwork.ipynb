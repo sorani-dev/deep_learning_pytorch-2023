{
  "nbformat": 4,
  "nbformat_minor": 0,
  "metadata": {
    "colab": {
      "provenance": [],
      "gpuType": "T4"
    },
    "kernelspec": {
      "name": "python3",
      "display_name": "Python 3"
    },
    "language_info": {
      "name": "python"
    },
    "accelerator": "GPU"
  },
  "cells": [
    {
      "cell_type": "code",
      "execution_count": 9,
      "metadata": {
        "id": "B2KAEh3KyKEQ"
      },
      "outputs": [],
      "source": [
        "import torch\n",
        "import torch.nn as nn\n",
        "import torch.nn.functional as F"
      ]
    },
    {
      "cell_type": "code",
      "source": [
        "# Create a Model Class that inherits nn.Module\n",
        "class Model(nn.Module):\n",
        "  # Input layer (4 features of the flower)\n",
        "  #   --> Hidden Layer1 H1 (number of neurone)\n",
        "  #   --> Hidden Layer H2 (n)\n",
        "  #   --> output (which 3 classes of iris flower)\n",
        "\n",
        "  def __init__(self, in_features = 4, h1 = 8, h2 = 9, out_features = 3):\n",
        "\n",
        "    super().__init__() # Instantiate nn.Module (parent class)\n",
        "\n",
        "    self.fc1 = nn.Linear(in_features, h1)\n",
        "    self.fc2 = nn.Linear(in_features, h2)\n",
        "    self.out = nn.Linear(h2, out_features)\n",
        "\n",
        "\n",
        "  def forward(self, x):\n",
        "    x = F.relu(self.fc1(x))\n",
        "    x = F.relu(self.fc2(x))\n",
        "    x = self.out(x)\n",
        "\n",
        "    return x\n",
        "\n"
      ],
      "metadata": {
        "id": "XXrf6mHtzA4w"
      },
      "execution_count": 10,
      "outputs": []
    },
    {
      "cell_type": "code",
      "source": [
        "# Pick a manual seed for randomization\n",
        "torch.manual_seed(41)\n",
        "# Create an instance of the model Model\n",
        "model = Model()"
      ],
      "metadata": {
        "id": "rwT-zTQP2abG"
      },
      "execution_count": 11,
      "outputs": []
    },
    {
      "cell_type": "code",
      "source": [],
      "metadata": {
        "id": "bpDBC63Y2qpc"
      },
      "execution_count": 11,
      "outputs": []
    }
  ]
}